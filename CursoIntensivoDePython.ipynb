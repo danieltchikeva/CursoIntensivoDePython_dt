{
  "nbformat": 4,
  "nbformat_minor": 0,
  "metadata": {
    "colab": {
      "provenance": [],
      "authorship_tag": "ABX9TyPj/CwbPOA9G88BVhZ8qUs5",
      "include_colab_link": true
    },
    "kernelspec": {
      "name": "python3",
      "display_name": "Python 3"
    },
    "language_info": {
      "name": "python"
    }
  },
  "cells": [
    {
      "cell_type": "markdown",
      "metadata": {
        "id": "view-in-github",
        "colab_type": "text"
      },
      "source": [
        "<a href=\"https://colab.research.google.com/github/danieltchikeva/CursoIntensivoDePython_dt/blob/main/CursoIntensivoDePython.ipynb\" target=\"_parent\"><img src=\"https://colab.research.google.com/assets/colab-badge.svg\" alt=\"Open In Colab\"/></a>"
      ]
    },
    {
      "cell_type": "markdown",
      "source": [],
      "metadata": {
        "id": "QYnKMop2fzEr"
      }
    },
    {
      "cell_type": "markdown",
      "source": [
        "# FORMATAÇÃO DE ESPAÇO EM BRANCO\n",
        "\n",
        "Python lê tabulações e espaços como recuos diferentes.\n",
        "Em Python use sempre espaço e nunca tabuções."
      ],
      "metadata": {
        "id": "YCB7oZUzf2CG"
      }
    },
    {
      "cell_type": "code",
      "execution_count": null,
      "metadata": {
        "id": "d8KirYLQzcNf"
      },
      "outputs": [],
      "source": [
        "#Com espaço. Passando o mesmo codigo no shell do Python dá erro! Para evitar este erro use o IPython (%paste)\n",
        "list_of_lists = [[1, 2, 3], [4, 5, 6], [7, 8, 9]]"
      ]
    },
    {
      "cell_type": "code",
      "source": [
        "print(list_of_lists)"
      ],
      "metadata": {
        "colab": {
          "base_uri": "https://localhost:8080/"
        },
        "id": "VkoNABjrhMuh",
        "outputId": "3a8e3248-ae93-46b5-e090-684b19de57da"
      },
      "execution_count": null,
      "outputs": [
        {
          "output_type": "stream",
          "name": "stdout",
          "text": [
            "[[1, 2, 3], [4, 5, 6], [7, 8, 9]]\n"
          ]
        }
      ]
    },
    {
      "cell_type": "code",
      "source": [
        "#USANDO UM BARRA INVERTIDA \\ QUE INDICA QUE A INSTRUÇÃO CONTINUA NA PRÓXIMA LINHA\n",
        "two_plus_three = 1994 - \\\n",
        "2114\n",
        "print(two_plus_three, 'anos')\n",
        "print('Com esta idade ainda sou jovem. Amo viver!')"
      ],
      "metadata": {
        "colab": {
          "base_uri": "https://localhost:8080/"
        },
        "id": "dcDxR4xohbua",
        "outputId": "ea31bfc4-b05f-4a2e-d3c3-274ee36889df"
      },
      "execution_count": null,
      "outputs": [
        {
          "output_type": "stream",
          "name": "stdout",
          "text": [
            "-120 anos\n",
            "Com esta idade ainda sou jovem. Amo viver!\n"
          ]
        }
      ]
    },
    {
      "cell_type": "markdown",
      "source": [
        "# MÓDULOS"
      ],
      "metadata": {
        "id": "7T0fjaM-k7k4"
      }
    },
    {
      "cell_type": "code",
      "source": [
        "import re as regex\n",
        "my_regex = regex.compile(\"[0-9] +\", regex.I)\n",
        "print(my_regex)"
      ],
      "metadata": {
        "colab": {
          "base_uri": "https://localhost:8080/"
        },
        "id": "-yCCgIXEk_bE",
        "outputId": "92607b80-53d6-42ef-ac22-ac9d14311733"
      },
      "execution_count": null,
      "outputs": [
        {
          "output_type": "stream",
          "name": "stdout",
          "text": [
            "re.compile('[0-9] +', re.IGNORECASE)\n"
          ]
        }
      ]
    },
    {
      "cell_type": "markdown",
      "source": [
        "# FUNÇÕES"
      ],
      "metadata": {
        "id": "gkY7Jo44Nb9W"
      }
    },
    {
      "cell_type": "code",
      "source": [
        "def soma():\n",
        "  num1 = 24\n",
        "  num2 = 47\n",
        "  total = num1 + num2\n",
        "  print(f\"Total: {total}\")\n"
      ],
      "metadata": {
        "id": "zLiiPop4Ngkm"
      },
      "execution_count": null,
      "outputs": []
    },
    {
      "cell_type": "code",
      "source": [
        "soma()"
      ],
      "metadata": {
        "id": "204BPymQOdWo"
      },
      "execution_count": null,
      "outputs": []
    },
    {
      "cell_type": "code",
      "source": [
        "#PASSANDO PARÁMETROS\n",
        "def soma(num1, num2):\n",
        "  total = num1 + num2\n",
        "  print(f\"Total: {total}\")"
      ],
      "metadata": {
        "id": "3DYXC2N5PIcM"
      },
      "execution_count": null,
      "outputs": []
    },
    {
      "cell_type": "code",
      "source": [
        "soma(89, 36)"
      ],
      "metadata": {
        "colab": {
          "base_uri": "https://localhost:8080/"
        },
        "id": "aNeGcnYRPdGN",
        "outputId": "f5e84818-25ca-4102-80d6-f0fb2adc6752"
      },
      "execution_count": null,
      "outputs": [
        {
          "output_type": "stream",
          "name": "stdout",
          "text": [
            "Total: 125\n"
          ]
        }
      ]
    },
    {
      "cell_type": "code",
      "source": [
        "#USANDO RETURN\n",
        "def soma (num1, num2):\n",
        "  total = num1 + num2\n",
        "  return total\n",
        "\n",
        "x = soma(15, 65)"
      ],
      "metadata": {
        "id": "6LZPPdEDQLT0"
      },
      "execution_count": null,
      "outputs": []
    },
    {
      "cell_type": "code",
      "source": [
        "print(f\"Resultado: {x}\")"
      ],
      "metadata": {
        "colab": {
          "base_uri": "https://localhost:8080/"
        },
        "id": "QPf7vJDqQwQu",
        "outputId": "021fde61-22bf-4f76-fa45-512fdadaa5f8"
      },
      "execution_count": null,
      "outputs": [
        {
          "output_type": "stream",
          "name": "stdout",
          "text": [
            "Resultado: 80\n"
          ]
        }
      ]
    },
    {
      "cell_type": "code",
      "source": [
        "#FUNÇÃO QUE CHAMA OUTRA FUNÇÃO\n",
        "def maior_valor(valores):\n",
        "  return max(valores)\n",
        "  print(f\"Maior valor: {capturar_numeros}\")\n",
        "\n",
        "def capturar_numeros():\n",
        "  lista_numeros = []\n",
        "  while True:\n",
        "    numero = int(input(\"Informe um número inteiro ou zero para sair: \"))\n",
        "    if numero == 0:\n",
        "      break\n",
        "    lista_numeros.append(numero)\n",
        "  return maior_valor(lista_numeros)\n"
      ],
      "metadata": {
        "id": "_jrj27fHRK82"
      },
      "execution_count": null,
      "outputs": []
    },
    {
      "cell_type": "code",
      "source": [
        "#FUNÇÃO E MAP\n",
        "\n",
        "def calculaQuadrado(numero):\n",
        "  return f\"A raiz quadrada de {numero} é: {numero **2}\"\n",
        "\n",
        "lista_numeros = [1, 2, 3, 4, 5, 6, 7, 8, 9]\n",
        "calculo = map(calculaQuadrado, lista_numeros)\n",
        "\n",
        "for n in calculo:\n",
        "  print(n)"
      ],
      "metadata": {
        "id": "suDz1qFETqNN"
      },
      "execution_count": null,
      "outputs": []
    },
    {
      "cell_type": "code",
      "source": [
        "#Map e Expressão Lambda\n",
        "\n",
        "lista_numeros = [1, 2, 3, 4, 5, 6, 7, 8, 9]\n",
        "calculo = map(lambda x: f\"A raiz quadrada de {x} é: {x ** 2}\", lista_numeros)\n",
        "\n",
        "for n in calculo:\n",
        "  print(n)"
      ],
      "metadata": {
        "id": "ZjvJIvy9Y3sZ"
      },
      "execution_count": null,
      "outputs": []
    },
    {
      "cell_type": "code",
      "source": [
        "#A SOMA DE DUAS LISTAS COM EXPRESSÃO LAMBDA\n",
        "\n",
        "lista_numeros1 = [9, 8, 7, 6, 5, 4, 3, 2, 1]\n",
        "lista_numeros2 = [7, 3, 4, 5, 6, 2, 8, 9, 2]\n",
        "calculo = map(lambda x, y: f\"A soma de {x} + {y} é: {x + y}\", lista_numeros1, lista_numeros2)\n",
        "\n",
        "for n in calculo:\n",
        "  print(n)"
      ],
      "metadata": {
        "id": "RaEeMoiYbMpO"
      },
      "execution_count": null,
      "outputs": []
    },
    {
      "cell_type": "code",
      "source": [
        "#EXPRESSÃO LAMBDA\n",
        "tabuada = [\n",
        "    lambda x: f\"{x} * 1 = \" + str(x * 1),\n",
        "    lambda x: f\"{x} * 2 = \" + str(x * 2),\n",
        "    lambda x: f\"{x} * 3 = \" + str(x * 3),\n",
        "    lambda x: f\"{x} * 4 = \" + str(x * 4),\n",
        "    lambda x: f\"{x} * 5 = \" + str(x * 5),\n",
        "    lambda x: f\"{x} * 6 = \" + str(x * 6),\n",
        "    lambda x: f\"{x} * 7 = \" + str(x * 7),\n",
        "    lambda x: f\"{x} * 8 = \" + str(x * 8),\n",
        "    lambda x: f\"{x} * 9 = \" + str(x * 9),\n",
        "    lambda x: f\"{x} * 10 = \" + str(x * 10),\n",
        "]\n",
        "\n",
        "print(\"============== TABUADA DE MULTIPLICAÇÃO ====================\")\n",
        "print()\n",
        "numero = int(input(\"Informe o número para gerar a tabuada: \"))\n",
        "\n",
        "for x in tabuada:\n",
        "  print(x(numero))"
      ],
      "metadata": {
        "colab": {
          "base_uri": "https://localhost:8080/"
        },
        "id": "I7JFl0Mumat-",
        "outputId": "3745f081-21ee-4a4e-a4e5-3891befa7bcd"
      },
      "execution_count": null,
      "outputs": [
        {
          "output_type": "stream",
          "name": "stdout",
          "text": [
            "============== TABUADA DE MULTIPLICAÇÃO ====================\n",
            "\n",
            "Informe o número para gerar a tabuada: 8\n",
            "8 * 1 = 8\n",
            "8 * 2 = 16\n",
            "8 * 3 = 24\n",
            "8 * 4 = 32\n",
            "8 * 5 = 40\n",
            "8 * 6 = 48\n",
            "8 * 7 = 56\n",
            "8 * 8 = 64\n",
            "8 * 9 = 72\n",
            "8 * 10 = 80\n"
          ]
        }
      ]
    },
    {
      "cell_type": "code",
      "source": [
        "#EXPRESSÃO LAMBDA\n",
        "tabuada = [\n",
        "    lambda x: f\"{x} / 1 = \" + str(x / 1),\n",
        "    lambda x: f\"{x} / 2 = \" + str(x / 2),\n",
        "    lambda x: f\"{x} / 3 = \" + str(x / 3),\n",
        "    lambda x: f\"{x} / 4 = \" + str(x / 4),\n",
        "    lambda x: f\"{x} / 5 = \" + str(x / 5),\n",
        "    lambda x: f\"{x} / 6 = \" + str(x / 6),\n",
        "    lambda x: f\"{x} / 7 = \" + str(x / 7),\n",
        "    lambda x: f\"{x} / 8 = \" + str(x / 8),\n",
        "    lambda x: f\"{x} / 9 = \" + str(x / 9),\n",
        "    lambda x: f\"{x} / 10 = \" + str(x / 10),\n",
        "]\n",
        "\n",
        "print(\"============== TABUADA DE DIVISÃO ====================\")\n",
        "print()\n",
        "numero = int(input(\"Informe o número para gerar a tabuada: \"))\n",
        "\n",
        "for x in tabuada:\n",
        "  print(x(numero))"
      ],
      "metadata": {
        "colab": {
          "base_uri": "https://localhost:8080/"
        },
        "id": "SAU0hheeoTZs",
        "outputId": "fe8f8ecf-9da7-476b-e227-8e6fab52172d"
      },
      "execution_count": null,
      "outputs": [
        {
          "output_type": "stream",
          "name": "stdout",
          "text": [
            "============== TABUADA DE DIVISÃO ====================\n",
            "\n",
            "Informe o número para gerar a tabuada: 640\n",
            "640 / 1 = 640.0\n",
            "640 / 2 = 320.0\n",
            "640 / 3 = 213.33333333333334\n",
            "640 / 4 = 160.0\n",
            "640 / 5 = 128.0\n",
            "640 / 6 = 106.66666666666667\n",
            "640 / 7 = 91.42857142857143\n",
            "640 / 8 = 80.0\n",
            "640 / 9 = 71.11111111111111\n",
            "640 / 10 = 64.0\n"
          ]
        }
      ]
    },
    {
      "cell_type": "code",
      "source": [
        "#EXPRESSÃO LAMBDA\n",
        "tabuada = [\n",
        "    lambda x: f\"{x} - 1 = \" + str(x - 1),\n",
        "    lambda x: f\"{x} - 2 = \" + str(x - 2),\n",
        "    lambda x: f\"{x} - 3 = \" + str(x - 3),\n",
        "    lambda x: f\"{x} - 4 = \" + str(x - 4),\n",
        "    lambda x: f\"{x} - 5 = \" + str(x - 5),\n",
        "    lambda x: f\"{x} - 6 = \" + str(x - 6),\n",
        "    lambda x: f\"{x} - 7 = \" + str(x - 7),\n",
        "    lambda x: f\"{x} - 8 = \" + str(x - 8),\n",
        "    lambda x: f\"{x} - 9 = \" + str(x - 9),\n",
        "    lambda x: f\"{x} - 10 = \" + str(x - 10),\n",
        "]\n",
        "print(\"============== TABUADA DE SUBTRAÇÃO ====================\")\n",
        "print()\n",
        "numero = int(input(\"Informe o número para gerar a tabuada: \"))\n",
        "\n",
        "for x in tabuada:\n",
        "  print(x(numero))"
      ],
      "metadata": {
        "id": "c_mLJCYeo6Vw"
      },
      "execution_count": null,
      "outputs": []
    },
    {
      "cell_type": "code",
      "source": [
        "#EXPRESSÃO LAMBDA\n",
        "tabuada = [\n",
        "    lambda x: f\"{x} + 1 = \" + str(x + 1),\n",
        "    lambda x: f\"{x} + 2 = \" + str(x + 2),\n",
        "    lambda x: f\"{x} + 3 = \" + str(x + 3),\n",
        "    lambda x: f\"{x} + 4 = \" + str(x + 4),\n",
        "    lambda x: f\"{x} + 5 = \" + str(x + 5),\n",
        "    lambda x: f\"{x} + 6 = \" + str(x + 6),\n",
        "    lambda x: f\"{x} + 7 = \" + str(x + 7),\n",
        "    lambda x: f\"{x} + 8 = \" + str(x + 8),\n",
        "    lambda x: f\"{x} + 9 = \" + str(x + 9),\n",
        "    lambda x: f\"{x} + 10 = \" + str(x + 10),\n",
        "]\n",
        "\n",
        "print(\"============== TABUADA DE ADIÇÃO ====================\")\n",
        "print()\n",
        "numero = int(input(\"Informe o número para gerar a tabuada: \"))\n",
        "\n",
        "for x in tabuada:\n",
        "  print(x(numero))"
      ],
      "metadata": {
        "colab": {
          "base_uri": "https://localhost:8080/"
        },
        "id": "Qd2QOgm2pRYo",
        "outputId": "fed76635-45f6-4c01-92b2-b6ee1173270f"
      },
      "execution_count": null,
      "outputs": [
        {
          "output_type": "stream",
          "name": "stdout",
          "text": [
            "============== TABUADA DE ADIÇÃO ====================\n",
            "\n",
            "Informe o número para gerar a tabuada: 9\n",
            "9 + 1 = 10\n",
            "9 + 2 = 11\n",
            "9 + 3 = 12\n",
            "9 + 4 = 13\n",
            "9 + 5 = 14\n",
            "9 + 6 = 15\n",
            "9 + 7 = 16\n",
            "9 + 8 = 17\n",
            "9 + 9 = 18\n",
            "9 + 10 = 19\n"
          ]
        }
      ]
    },
    {
      "cell_type": "code",
      "source": [
        "#FUNÇÃO RECURSIVA\n",
        "def fatorial(x):\n",
        "  if x <= 1:\n",
        "    return 1\n",
        "  else:\n",
        "    return (x * fatorial(x-1))\n",
        "\n",
        "num = int(input(\"Informe um número para encontrar o fatorial: \"))\n",
        "\n",
        "print(\"O fatorial de\", num, \"é\", fatorial(num))\n"
      ],
      "metadata": {
        "id": "9cKQX79d1zAL"
      },
      "execution_count": null,
      "outputs": []
    },
    {
      "cell_type": "code",
      "source": [
        "#FUNÇÃO DE VALIDAÇÃO DE ENTRADA DE DADOS\n",
        "def validar_faixa(numero, inicio, fim):\n",
        "  if numero.isdigit():\n",
        "    if int (numero) < int(inicio) or int (numero) > int(fim):\n",
        "      print(f\"Valor inválido! Informe um número entre {inicio} \"\n",
        "            f\"e {fim}.\")\n",
        "    else:\n",
        "        return True\n",
        "  else:\n",
        "    print(f\"Número inválido! Informe um número inteiro entre \"\n",
        "          f\"{inicio} e {fim}.\")\n",
        "\n",
        "\n",
        "while True:\n",
        "  resp = input(\"Informe um número entre 1 e 10: \")\n",
        "  if validar_faixa(resp, 1, 10):\n",
        "    break"
      ],
      "metadata": {
        "id": "2Jmw2IgH_KuB"
      },
      "execution_count": null,
      "outputs": []
    },
    {
      "cell_type": "code",
      "source": [
        "#FUNÇÃO DE VALIDAÇÃO DE ENTRADA DE DADOS\n",
        "\n",
        "def validar_tamanho(texto, maximo):\n",
        "  if len(texto) > maximo:\n",
        "    print(f\"O texto deve conter no máximo {maximo} caracteres!\")\n",
        "  else:\n",
        "    return True\n",
        "\n",
        "while True:\n",
        "  texto = input(\"Informe um texto de no máximo 10 caracteres: \")\n",
        "  if validar_tamanho(texto, 10):\n",
        "    break"
      ],
      "metadata": {
        "id": "t_6LyY7zDa1x"
      },
      "execution_count": null,
      "outputs": []
    },
    {
      "cell_type": "code",
      "source": [
        "#FUNÇÃO DE VALIDAÇÃO DE ENTRADA DE DADOS\n",
        "\n",
        "def valida_elementos(texto, lista):\n",
        "  if texto.upper() in lista:\n",
        "    return True\n",
        "  else:\n",
        "    print(\"Opção inválida, veja as opções disponíveis: \")\n",
        "    for item in lista:\n",
        "      print(item)\n",
        "\n",
        "while True:\n",
        "  lista = {\"LAMBORGINI\", \"MERCEDES\", \"ROSROYLL\", \"TESLA\", \"AUD\", \"RANGER ROVER\", \"FERRARI\"}\n",
        "  resp = input(\"Informe uma marca de carro da sua preferência: \")\n",
        "  if valida_elementos(resp, lista):\n",
        "    break"
      ],
      "metadata": {
        "id": "j2TcLDqbhqVQ"
      },
      "execution_count": null,
      "outputs": []
    },
    {
      "cell_type": "markdown",
      "source": [
        "# OPERAÇÕES MATEMÁTICAS\n",
        "**Exercises 1**\n",
        "\n",
        "Ler dois números inteiros, executar e mostrar o resultado das seguintes operações: adição, subtração, multiplicação e divisão"
      ],
      "metadata": {
        "id": "qZiilSHI0DhW"
      }
    },
    {
      "cell_type": "code",
      "source": [
        "x = int(input ('Digite o o primeiro número: '))\n",
        "y = int(input ('Digite o segundo número: '))\n",
        "print(x, y)"
      ],
      "metadata": {
        "colab": {
          "base_uri": "https://localhost:8080/"
        },
        "id": "dVk0zVTz0MGG",
        "outputId": "081bd4ca-8200-4c6f-8cbc-3bce71aa44c6"
      },
      "execution_count": null,
      "outputs": [
        {
          "output_type": "stream",
          "name": "stdout",
          "text": [
            "Digite o o primeiro número: 85\n",
            "Digite o segundo número: 36\n",
            "85 36\n"
          ]
        }
      ]
    },
    {
      "cell_type": "code",
      "source": [
        "adicao = x + y\n",
        "subtracao = x - y\n",
        "multiplicacao = x * y\n",
        "divisao = x / y"
      ],
      "metadata": {
        "id": "Pcwq3dcQ2EUM"
      },
      "execution_count": null,
      "outputs": []
    },
    {
      "cell_type": "code",
      "source": [
        "print('Adição: ', adicao)\n",
        "print('Subtração: ', subtracao)\n",
        "print('Multiplicação: ', multiplicacao )\n",
        "print('Divisão: ', divisao)"
      ],
      "metadata": {
        "colab": {
          "base_uri": "https://localhost:8080/"
        },
        "id": "_YAE3j6B2fCI",
        "outputId": "26d6a37a-65fe-4a1e-caf7-5cf3e11a8a5b"
      },
      "execution_count": null,
      "outputs": [
        {
          "output_type": "stream",
          "name": "stdout",
          "text": [
            "Adição:  121\n",
            "Subtração:  49\n",
            "Multiplicação:  3060\n",
            "Divisão:  2.361111111111111\n"
          ]
        }
      ]
    },
    {
      "cell_type": "markdown",
      "source": [
        "**Exercise 2**\n",
        "\n",
        "Efetuar o cálculo da quantidade de litros de combustível gasto em uma viagem, utilizando um automóvel que faz 12 Km por litro. Para obter o cálculo, o usuário deve fornecer o tempo gasto na viagem e a velocidade média durante ela. Desta forma, será possível obter a distância percorrida com a fórmula DISTANCIA = TEMPO * VELOCIDADE. Tendo o valor da distância, basta calcular a quantidade de litros de combustível utilizada na viagem, com a fórmula: LITROS_USADOS = DISTANCIA / 12. O programa deve apresentar os valores da velocidade média, tempo gasto na viagem, a distância percorrida e a quantidade de litros utilizada na viagem"
      ],
      "metadata": {
        "id": "jPNnGUcb4Qwy"
      }
    },
    {
      "cell_type": "code",
      "source": [
        "tempo = float(input('Digite o tempo gasto na viagem: '))\n",
        "velocidade = float(input('Digite a velocidade média: '))\n",
        "\n",
        "#Calculando a quantidade de litros gastos\n",
        "distancia = tempo * velocidade\n",
        "litros_usado = distancia / 12\n",
        "print()\n",
        "print('Tempo gasto na viagem', tempo,'h')\n",
        "print('Velocidade média', velocidade,'km')\n",
        "print ('Distância percorrida:', distancia,'km')\n",
        "print('Quantidade de litros:', round(litros_usado,1),'L')"
      ],
      "metadata": {
        "colab": {
          "base_uri": "https://localhost:8080/"
        },
        "id": "P2eR50cn6zOJ",
        "outputId": "d9703747-ed67-45eb-eaf7-0e60c76e4663"
      },
      "execution_count": null,
      "outputs": [
        {
          "output_type": "stream",
          "name": "stdout",
          "text": [
            "Digite o tempo gasto na viagem: 7\n",
            "Digite a velocidade média: 1000\n",
            "\n",
            "Tempo gasto na viagem 7.0 h\n",
            "Velocidade média 1000.0 km\n",
            "Distância percorrida: 7000.0 km\n",
            "Quantidade de litros: 583.3 L\n"
          ]
        }
      ]
    },
    {
      "cell_type": "code",
      "source": [],
      "metadata": {
        "id": "pbilgIs_7Vfx"
      },
      "execution_count": null,
      "outputs": []
    },
    {
      "cell_type": "markdown",
      "source": [
        "# OPERADORES LÓGICOS, CONDICIONAIS E RELACIONAIS\n",
        "\n",
        "**Exercise 1**\n",
        "\n",
        "Leia a idade do usuário e classifique-o em:\n",
        "\n",
        "Criança – 0 a 12 anos\n",
        "Adolescente – 13 a 17 anos\n",
        "Adulto – acima de 18 anos -Se o usuário digitar um número negativo, mostrar a mensagem que a idade é inválida"
      ],
      "metadata": {
        "id": "fogkDpe8-pjK"
      }
    },
    {
      "cell_type": "code",
      "source": [
        "idade = int(input('Digite a idade: '))\n",
        "print('Idade:', idade,'anos?')\n",
        "\n",
        "if idade >= 0 and idade <=12:\n",
        "  print('Você é bêbê!')\n",
        "elif idade > 12 and idade <= 18:\n",
        "    print('Você é mocinho(a)')\n",
        "elif idade > 18 and idade <= 59:\n",
        "    print('Você é jovem!')\n",
        "elif idade > 59:\n",
        "  print('Você é senhor')\n",
        "else:\n",
        "    print('Sacanagem, você inseriu idade inválida')"
      ],
      "metadata": {
        "colab": {
          "base_uri": "https://localhost:8080/"
        },
        "id": "Bm7CYVO6_Ouz",
        "outputId": "3871694d-2466-43e3-ba69-8849ca16e29c"
      },
      "execution_count": null,
      "outputs": [
        {
          "output_type": "stream",
          "name": "stdout",
          "text": [
            "Digite a idade: 7\n",
            "Idade: 7 anos?\n",
            "Você é bêbê!\n"
          ]
        }
      ]
    },
    {
      "cell_type": "markdown",
      "source": [
        "# STRINGS"
      ],
      "metadata": {
        "id": "HhPtHr255icG"
      }
    },
    {
      "cell_type": "code",
      "source": [
        "#VERIFICAÇÃO DE STRINGS E CONVERSÃO PARA MAIÚSCULAS\n",
        "nome = \"Daniel Tchikeva\"\n",
        "nome.startswith(\"Daniel\")"
      ],
      "metadata": {
        "colab": {
          "base_uri": "https://localhost:8080/"
        },
        "id": "3gBTSNte5szh",
        "outputId": "5c219439-aea5-42bf-c39a-b21acc62a261"
      },
      "execution_count": null,
      "outputs": [
        {
          "output_type": "execute_result",
          "data": {
            "text/plain": [
              "True"
            ]
          },
          "metadata": {},
          "execution_count": 7
        }
      ]
    },
    {
      "cell_type": "code",
      "source": [
        "nome.startswith(\"Tchi\")"
      ],
      "metadata": {
        "colab": {
          "base_uri": "https://localhost:8080/"
        },
        "id": "KdnsCNnk6fpl",
        "outputId": "acdeba63-32f3-482c-a811-71f54c4199f9"
      },
      "execution_count": null,
      "outputs": [
        {
          "output_type": "execute_result",
          "data": {
            "text/plain": [
              "False"
            ]
          },
          "metadata": {},
          "execution_count": 8
        }
      ]
    },
    {
      "cell_type": "code",
      "source": [
        "nome.endswith(\"Tchikevak\")"
      ],
      "metadata": {
        "colab": {
          "base_uri": "https://localhost:8080/"
        },
        "id": "_B5VJYyx68ap",
        "outputId": "4c9d699e-bb53-4e31-db35-35102c42d15b"
      },
      "execution_count": null,
      "outputs": [
        {
          "output_type": "execute_result",
          "data": {
            "text/plain": [
              "False"
            ]
          },
          "metadata": {},
          "execution_count": 11
        }
      ]
    },
    {
      "cell_type": "code",
      "source": [
        "nome.endswith(\"Tchikeva\")"
      ],
      "metadata": {
        "colab": {
          "base_uri": "https://localhost:8080/"
        },
        "id": "-8wXn_o67Bfx",
        "outputId": "2ecb9c65-eb60-436d-ebf3-dee2392d7e26"
      },
      "execution_count": null,
      "outputs": [
        {
          "output_type": "execute_result",
          "data": {
            "text/plain": [
              "True"
            ]
          },
          "metadata": {},
          "execution_count": 12
        }
      ]
    },
    {
      "cell_type": "code",
      "source": [
        "#USANDO OPERADOR in PARA VERIFICAR SE UMA PALAVRA ESTÁ CONTIDA NA STRING\n",
        "a = \"Sou um homem inteligente, saudável, rico e próspero\"\n",
        "\"falar\" in a"
      ],
      "metadata": {
        "colab": {
          "base_uri": "https://localhost:8080/"
        },
        "id": "cjKn5Hzi7m-N",
        "outputId": "6117a6ec-1a46-41b6-c4d2-478ea0ec0113"
      },
      "execution_count": null,
      "outputs": [
        {
          "output_type": "execute_result",
          "data": {
            "text/plain": [
              "False"
            ]
          },
          "metadata": {},
          "execution_count": 14
        }
      ]
    },
    {
      "cell_type": "code",
      "source": [
        "\"comer\" in a"
      ],
      "metadata": {
        "colab": {
          "base_uri": "https://localhost:8080/"
        },
        "id": "1NgiDRTO8PoA",
        "outputId": "27f37ffd-a3db-4cae-995a-98092623ce00"
      },
      "execution_count": null,
      "outputs": [
        {
          "output_type": "execute_result",
          "data": {
            "text/plain": [
              "False"
            ]
          },
          "metadata": {},
          "execution_count": 15
        }
      ]
    },
    {
      "cell_type": "code",
      "source": [
        "\"homem inteligente\" in a"
      ],
      "metadata": {
        "colab": {
          "base_uri": "https://localhost:8080/"
        },
        "id": "vBJWIlyI8UIx",
        "outputId": "5567f5cb-a036-4f1a-ec3b-ba5919100e77"
      },
      "execution_count": null,
      "outputs": [
        {
          "output_type": "execute_result",
          "data": {
            "text/plain": [
              "True"
            ]
          },
          "metadata": {},
          "execution_count": 16
        }
      ]
    },
    {
      "cell_type": "code",
      "source": [
        "\"prospero\" in a"
      ],
      "metadata": {
        "colab": {
          "base_uri": "https://localhost:8080/"
        },
        "id": "xm6pUBaw8ZLE",
        "outputId": "d447913e-6bc8-4277-9db4-f6fb57c8ad6c"
      },
      "execution_count": null,
      "outputs": [
        {
          "output_type": "execute_result",
          "data": {
            "text/plain": [
              "False"
            ]
          },
          "metadata": {},
          "execution_count": 17
        }
      ]
    },
    {
      "cell_type": "code",
      "source": [
        "\"próspero\" in a"
      ],
      "metadata": {
        "colab": {
          "base_uri": "https://localhost:8080/"
        },
        "id": "utjYEC598gDa",
        "outputId": "744820ff-b1c4-415b-f11f-49b81cb175e0"
      },
      "execution_count": null,
      "outputs": [
        {
          "output_type": "execute_result",
          "data": {
            "text/plain": [
              "True"
            ]
          },
          "metadata": {},
          "execution_count": 18
        }
      ]
    },
    {
      "cell_type": "code",
      "source": [
        "#USANDO OPERADOR not in PARA VERIFICAR SE UMA PALAVRA ESTÁ CONTIDA NA STRING\n",
        "\"homem\" not in a"
      ],
      "metadata": {
        "colab": {
          "base_uri": "https://localhost:8080/"
        },
        "id": "GoWT6vG98uX8",
        "outputId": "c7d93fc6-2260-440c-c4af-f4ba47c4e389"
      },
      "execution_count": null,
      "outputs": [
        {
          "output_type": "execute_result",
          "data": {
            "text/plain": [
              "False"
            ]
          },
          "metadata": {},
          "execution_count": 19
        }
      ]
    },
    {
      "cell_type": "code",
      "source": [
        "\"homem\" in a"
      ],
      "metadata": {
        "colab": {
          "base_uri": "https://localhost:8080/"
        },
        "id": "wbL5UFoi8_b2",
        "outputId": "40d6bab1-c18e-48d0-9c70-dded74a667ed"
      },
      "execution_count": null,
      "outputs": [
        {
          "output_type": "execute_result",
          "data": {
            "text/plain": [
              "True"
            ]
          },
          "metadata": {},
          "execution_count": 20
        }
      ]
    },
    {
      "cell_type": "code",
      "source": [
        "#CONVERTER UMA STRING EM MAIÚSCULA OU MINÚSCULA COM MÉTODOS upper e lower\n",
        "#Todas minúsculas\n",
        "a.lower()"
      ],
      "metadata": {
        "colab": {
          "base_uri": "https://localhost:8080/",
          "height": 35
        },
        "id": "Y2NUb1x69JnN",
        "outputId": "2e445a0b-3cee-4b85-a7f6-b61645ffd1e9"
      },
      "execution_count": null,
      "outputs": [
        {
          "output_type": "execute_result",
          "data": {
            "text/plain": [
              "'sou um homem inteligente, saudável, rico e próspero'"
            ],
            "application/vnd.google.colaboratory.intrinsic+json": {
              "type": "string"
            }
          },
          "metadata": {},
          "execution_count": 22
        }
      ]
    },
    {
      "cell_type": "code",
      "source": [
        "#Todas maiúsculas\n",
        "a.upper()"
      ],
      "metadata": {
        "colab": {
          "base_uri": "https://localhost:8080/",
          "height": 35
        },
        "id": "rY9Svgrf9ksj",
        "outputId": "dfc09714-0a69-4acf-f471-14174e018fcb"
      },
      "execution_count": null,
      "outputs": [
        {
          "output_type": "execute_result",
          "data": {
            "text/plain": [
              "'SOU UM HOMEM INTELIGENTE, SAUDÁVEL, RICO E PRÓSPERO'"
            ],
            "application/vnd.google.colaboratory.intrinsic+json": {
              "type": "string"
            }
          },
          "metadata": {},
          "execution_count": 24
        }
      ]
    },
    {
      "cell_type": "code",
      "source": [
        "#CONTAR ELEMENTOS DE UMA STRING USANDO O MÉTODO count\n",
        "rico = \"Ser rico proporciona liberdade; Ser rico proporciona autonomia. Ser rico não se recume apenas em ter dinheiro. \\\n",
        "Ser rico significa ter uma vida abundante, saudável, ser amado e amar a família.\\\n",
        "Desfrutar do melhor que existe na Terra.\""
      ],
      "metadata": {
        "id": "E8LULAzA9y6u"
      },
      "execution_count": null,
      "outputs": []
    },
    {
      "cell_type": "code",
      "source": [
        "rico.count(\"família\")"
      ],
      "metadata": {
        "colab": {
          "base_uri": "https://localhost:8080/"
        },
        "id": "Xqs4uJUx_p7l",
        "outputId": "b14cb5aa-8da1-404b-ac0d-1d3473eb1cae"
      },
      "execution_count": null,
      "outputs": [
        {
          "output_type": "execute_result",
          "data": {
            "text/plain": [
              "1"
            ]
          },
          "metadata": {},
          "execution_count": 26
        }
      ]
    },
    {
      "cell_type": "code",
      "source": [
        "rico.count(\"Ser rico\")"
      ],
      "metadata": {
        "colab": {
          "base_uri": "https://localhost:8080/"
        },
        "id": "jWUghyxt_y2o",
        "outputId": "f04cc675-4e57-4582-f314-15c771960eda"
      },
      "execution_count": null,
      "outputs": [
        {
          "output_type": "execute_result",
          "data": {
            "text/plain": [
              "4"
            ]
          },
          "metadata": {},
          "execution_count": 28
        }
      ]
    },
    {
      "cell_type": "code",
      "source": [
        "rico.count(\"proporciona\")"
      ],
      "metadata": {
        "colab": {
          "base_uri": "https://localhost:8080/"
        },
        "id": "nnmAT93C__DD",
        "outputId": "7224331d-fc22-4b77-fb68-67e57557eb87"
      },
      "execution_count": null,
      "outputs": [
        {
          "output_type": "execute_result",
          "data": {
            "text/plain": [
              "2"
            ]
          },
          "metadata": {},
          "execution_count": 29
        }
      ]
    },
    {
      "cell_type": "code",
      "source": [
        "vida_rica = \"Ser rico proporciona liberdade; Ser rico proporciona autonomia; Ser rico não se recume apenas em ter dinheiro; \\\n",
        "Ser rico significa ter uma vida abundante, saudável, ser amado e amar a família;\\\n",
        "Desfrutar do melhor que existe na Terra.\""
      ],
      "metadata": {
        "id": "Ru7xGuJCFYxQ"
      },
      "execution_count": null,
      "outputs": []
    },
    {
      "cell_type": "code",
      "source": [
        "lista_vida_rica = vida_rica.split(\";\")"
      ],
      "metadata": {
        "id": "VhSgB-UoFYrD"
      },
      "execution_count": null,
      "outputs": []
    },
    {
      "cell_type": "code",
      "source": [
        "lista_vida_rica"
      ],
      "metadata": {
        "colab": {
          "base_uri": "https://localhost:8080/"
        },
        "id": "OT0F5R7sGByT",
        "outputId": "f6f3599c-4165-4ef7-acd1-9c11ea9887c7"
      },
      "execution_count": null,
      "outputs": [
        {
          "output_type": "execute_result",
          "data": {
            "text/plain": [
              "['Ser rico proporciona liberdade',\n",
              " ' Ser rico proporciona autonomia',\n",
              " ' Ser rico não se recume apenas em ter dinheiro',\n",
              " ' Ser rico significa ter uma vida abundante, saudável, ser amado e amar a família',\n",
              " 'Desfrutar do melhor que existe na Terra.']"
            ]
          },
          "metadata": {},
          "execution_count": 32
        }
      ]
    },
    {
      "cell_type": "code",
      "source": [
        "#SUBSTITUINDO UMA STRING USANDO O MÉTODO replace\n",
        "texto1 = \"Ser rico proporciona liberdade; Ser rico proporciona autonomia. Ser rico não se recume apenas em ter dinheiro. \\\n",
        "Ser rico significa ter uma vida abundante, saudável, ser amado e amar a família.\\\n",
        "Desfrutar do melhor que existe na Terra.\""
      ],
      "metadata": {
        "id": "h3DMYSFjGjFP"
      },
      "execution_count": null,
      "outputs": []
    },
    {
      "cell_type": "code",
      "source": [
        "texto2 = texto1.replace(\"Ser rico\", \"Vida rica\")"
      ],
      "metadata": {
        "id": "tLc35yG5G6jz"
      },
      "execution_count": null,
      "outputs": []
    },
    {
      "cell_type": "code",
      "source": [
        "texto2"
      ],
      "metadata": {
        "colab": {
          "base_uri": "https://localhost:8080/",
          "height": 70
        },
        "id": "Xgr4o9DaHRyS",
        "outputId": "91eed8e1-1195-4252-fb8e-f2c63c611029"
      },
      "execution_count": null,
      "outputs": [
        {
          "output_type": "execute_result",
          "data": {
            "text/plain": [
              "'Vida rica proporciona liberdade; Vida rica proporciona autonomia. Vida rica não se recume apenas em ter dinheiro. Vida rica significa ter uma vida abundante, saudável, ser amado e amar a família.Desfrutar do melhor que existe na Terra.'"
            ],
            "application/vnd.google.colaboratory.intrinsic+json": {
              "type": "string"
            }
          },
          "metadata": {},
          "execution_count": 35
        }
      ]
    },
    {
      "cell_type": "code",
      "source": [
        "texto3 = texto2.replace(\"recume\", \"resume\")"
      ],
      "metadata": {
        "id": "u3kmc6M6Hg9_"
      },
      "execution_count": null,
      "outputs": []
    },
    {
      "cell_type": "code",
      "source": [
        "texto3"
      ],
      "metadata": {
        "colab": {
          "base_uri": "https://localhost:8080/",
          "height": 70
        },
        "id": "YzlpZrzXHvHR",
        "outputId": "2228063e-0196-4796-b7e7-845e1c62709c"
      },
      "execution_count": null,
      "outputs": [
        {
          "output_type": "execute_result",
          "data": {
            "text/plain": [
              "'Vida rica proporciona liberdade; Vida rica proporciona autonomia. Vida rica não se resume apenas em ter dinheiro. Vida rica significa ter uma vida abundante, saudável, ser amado e amar a família.Desfrutar do melhor que existe na Terra.'"
            ],
            "application/vnd.google.colaboratory.intrinsic+json": {
              "type": "string"
            }
          },
          "metadata": {},
          "execution_count": 37
        }
      ]
    },
    {
      "cell_type": "markdown",
      "source": [
        "# POO\n",
        "\n",
        "**Herança**"
      ],
      "metadata": {
        "id": "sNkKg9AeUuH4"
      }
    },
    {
      "cell_type": "code",
      "source": [
        "#CLASSE BASE\n",
        "\n",
        "class Classe_base():\n",
        "  def __init__(self, valor1, valor2):\n",
        "    print(\"Método construtor da classe base\")\n",
        "    self.valor1 = valor1\n",
        "    self.valor2 = valor2\n",
        "\n",
        "  def somar(self):\n",
        "    return self.valor1 + self.valor2\n",
        "\n",
        "  def subtrair(self):\n",
        "    return self.valor1 - self.valor2\n",
        "\n",
        "#CLASSE DERIVADA\n",
        "\n",
        "class Classe_derivada1(Classe_base):\n",
        "  def __init__(self, v1, v2):\n",
        "    print(\"Método construtor da classe derivada1.\")\n",
        "    super().__init__(v1, v2)\n",
        "\n",
        "  def imprimir(self, texto):\n",
        "    print(texto)\n",
        "\n",
        "#CLASSE DERIVADA2\n",
        "\n",
        "class Classe_derivada2(Classe_base):\n",
        "  def multiplicar(self, num1, num2):\n",
        "    return num1 * num2"
      ],
      "metadata": {
        "id": "R5gO-LGkUwov"
      },
      "execution_count": null,
      "outputs": []
    }
  ]
}